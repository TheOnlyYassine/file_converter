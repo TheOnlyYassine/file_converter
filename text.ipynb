{
 "cells": [
  {
   "cell_type": "code",
   "execution_count": null,
   "metadata": {},
   "outputs": [],
   "source": [
    "from flask_wkhtmltopdf import Wkhtmltopdf\n",
    "from flask import Flask\n",
    "app = Flask(__name__)\n",
    "wkhtmltopdf = Wkhtmltopdf(app)"
   ]
  }
 ],
 "metadata": {
  "kernelspec": {
   "display_name": "venv",
   "language": "python",
   "name": "python3"
  },
  "language_info": {
   "name": "python",
   "version": "3.8.8"
  }
 },
 "nbformat": 4,
 "nbformat_minor": 2
}
